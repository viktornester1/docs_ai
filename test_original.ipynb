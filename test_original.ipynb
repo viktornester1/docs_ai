{
 "cells": [
  {
   "cell_type": "code",
   "execution_count": null,
   "id": "6a9fe3b5",
   "metadata": {},
   "outputs": [],
   "source": [
    "import os\n",
    "import sys\n",
    "\n",
    "from dotenv import load_dotenv\n",
    "import PyPDF2\n",
    "from PyPDF2 import PdfReader\n",
    "import gradio as gr\n",
    "import re\n",
    "\n",
    "from langchain.document_loaders import TextLoader\n",
    "from langchain.indexes import VectorstoreIndexCreator\n",
    "from langchain_openai import OpenAIEmbeddings"
   ]
  },
  {
   "cell_type": "code",
   "execution_count": null,
   "id": "f35c8601",
   "metadata": {},
   "outputs": [],
   "source": [
    "def process_text(text: str) -> str:\n",
    "\n",
    "    temp_marker = \"TEMP_MARKER\"\n",
    "    text = re.sub(\"  \", temp_marker, text)\n",
    "    text = re.sub(\" \", \"\", text)\n",
    "    text = re.sub(temp_marker, \" \", text)\n",
    "    \n",
    "    return text"
   ]
  },
  {
   "cell_type": "markdown",
   "id": "57396167",
   "metadata": {},
   "source": [
    "## \"Stripe-2022\" text extracting and cleaning "
   ]
  },
  {
   "cell_type": "code",
   "execution_count": null,
   "id": "ea3e7ef3",
   "metadata": {},
   "outputs": [],
   "source": [
    "#stripe-2022-update\n",
    "\n",
    "text_stripe = []\n",
    "with open('stripe-2022-update.pdf', 'rb') as f:\n",
    "    reader = PyPDF2.PdfReader(f)\n",
    "    \n",
    "    text_stripe = [process_text(page.extract_text()) for page in reader.pages]\n",
    "\n",
    "text_stripe = '\\n'.join(text_stripe)\n",
    "print(text_stripe)"
   ]
  },
  {
   "cell_type": "markdown",
   "id": "25c4d452",
   "metadata": {},
   "source": [
    "## \"Coffee_Manual\" text extracting and cleaning "
   ]
  },
  {
   "cell_type": "code",
   "execution_count": null,
   "id": "38abac28",
   "metadata": {},
   "outputs": [],
   "source": [
    "# CoffeeB_Manual Globe_EN_10.08.2022\n",
    "\n",
    "with open('CoffeeB_Manual Globe_EN_10.08.2022.pdf', 'rb') as f:\n",
    "        \n",
    "    reader = PyPDF2.PdfReader(f)\n",
    "    text_manual = \"\"\n",
    "\n",
    "    for page_number in range(len(reader.pages)):\n",
    "        page = reader.pages[page_number]\n",
    "        text_manual += page.extract_text()\n",
    "\n",
    "text_manual = text_manual.replace('X', '')\n",
    "text_manual = re.sub(r\"RZ_CoffeeB_Cover_BDA_Globe_DE\\.indd.*\\d+:\\d+\", '', text_manual)\n",
    "text_manual = re.sub(r' -', '', text_manual)\n",
    "\n",
    "print(text_manual)"
   ]
  },
  {
   "cell_type": "code",
   "execution_count": null,
   "id": "37b8f112",
   "metadata": {},
   "outputs": [],
   "source": [
    "texts = {\"data_stripe.txt\": text_stripe, \"data_manual.txt\": text_manual}\n",
    "\n",
    "for filename, text in texts.items():\n",
    "    with open(filename, \"w\", encoding=\"utf-8\") as f:\n",
    "    f.write(text + \"\\n\")\n",
    "\n",
    "print(\"Text added to files (existing files will be overwritten).\")\n"
   ]
  },
  {
   "cell_type": "markdown",
   "id": "fc9e8d01",
   "metadata": {},
   "source": [
    "## setting up API key"
   ]
  },
  {
   "cell_type": "code",
   "execution_count": null,
   "id": "6a1e0c34",
   "metadata": {},
   "outputs": [],
   "source": [
    "load_dotenv()\n",
    "api_key = os.getenv(\"OPENAI_API_KEY\")\n",
    "os.environ[\"OPENAI_API_KEY\"] = api_key"
   ]
  },
  {
   "cell_type": "code",
   "execution_count": null,
   "id": "b08b80a2",
   "metadata": {
    "scrolled": true
   },
   "outputs": [],
   "source": [
    "query = sys.argv[1]\n",
    "loader1 = TextLoader('data_stripe.txt')\n",
    "loader2 = TextLoader('data_manual.txt')\n",
    "\n",
    "index = VectorstoreIndexCreator().from_loaders([loader1, loader2])"
   ]
  },
  {
   "cell_type": "raw",
   "id": "c575b631",
   "metadata": {},
   "source": [
    "while True:\n",
    "    \n",
    "    user_query = input(\"\\nEnter your question (or type 'quit' to exit): \")\n",
    "    if user_query.lower() == \"quit\":\n",
    "        break    \n",
    "        \n",
    "    print(\"\\n\" + index.query(user_query))"
   ]
  },
  {
   "cell_type": "code",
   "execution_count": null,
   "id": "5ad106d8",
   "metadata": {
    "scrolled": false
   },
   "outputs": [],
   "source": [
    "import gradio as gr\n",
    "\n",
    "def ask_question(user_query):\n",
    "    \n",
    "    if user_query.lower() == \"quit\":\n",
    "        return \"You have chosen to exit.\"\n",
    "    else:\n",
    "        return index.query(user_query)\n",
    "\n",
    "iface = gr.Interface(\n",
    "  fn=ask_question,\n",
    "  inputs=gr.Textbox(lines=2, placeholder=\"Enter your question here\",label=\"question\"),\n",
    "  outputs=\"text\",\n",
    "  title=\"Test\",\n",
    "  description=\"Enter your question based on 2 given docs.\"\n",
    ")\n",
    "\n",
    "iface.launch(share=True)\n"
   ]
  }
 ],
 "metadata": {
  "kernelspec": {
   "display_name": "Python 3 (ipykernel)",
   "language": "python",
   "name": "python3"
  },
  "language_info": {
   "codemirror_mode": {
    "name": "ipython",
    "version": 3
   },
   "file_extension": ".py",
   "mimetype": "text/x-python",
   "name": "python",
   "nbconvert_exporter": "python",
   "pygments_lexer": "ipython3",
   "version": "3.11.4"
  }
 },
 "nbformat": 4,
 "nbformat_minor": 5
}
