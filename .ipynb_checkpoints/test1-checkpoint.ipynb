{
 "cells": [
  {
   "cell_type": "code",
   "execution_count": null,
   "id": "399701ec",
   "metadata": {},
   "outputs": [],
   "source": [
    "import os\n",
    "import sys\n",
    "import re\n",
    "from dotenv import load_dotenv\n",
    "import PyPDF2\n",
    "from PyPDF2 import PdfReader\n",
    "import gradio as gr\n",
    "from langchain.document_loaders import TextLoader\n",
    "from langchain.indexes import VectorstoreIndexCreator\n",
    "from langchain_openai import OpenAIEmbeddings"
   ]
  },
  {
   "cell_type": "code",
   "execution_count": null,
   "id": "9514403c",
   "metadata": {},
   "outputs": [],
   "source": [
    "def process_text_stripe(text: str) -> str:\n",
    "    temp_marker = \"TEMP_MARKER\"\n",
    "    text = re.sub(\"  \", temp_marker, text)\n",
    "    text = re.sub(\" \", \"\", text)\n",
    "    text = re.sub(temp_marker, \" \", text)\n",
    "    return text"
   ]
  },
  {
   "cell_type": "code",
   "execution_count": null,
   "id": "895556ad",
   "metadata": {},
   "outputs": [],
   "source": [
    "def process_text_manual(text: str) -> str:\n",
    "    text = text.replace('X', '')\n",
    "    text = re.sub(r\"RZ_CoffeeB_Cover_BDA_Globe_DE\\.indd.*\\d+:\\d+\", '', text)\n",
    "    text = re.sub(r' -', '', text)\n",
    "    return text"
   ]
  },
  {
   "cell_type": "code",
   "execution_count": null,
   "id": "e5dcbefc",
   "metadata": {},
   "outputs": [],
   "source": [
    "def extract_text_from_pdf(file_path: str, process_func) -> str:\n",
    "    with open(file_path, 'rb') as f:\n",
    "        reader = PyPDF2.PdfReader(f)\n",
    "        text = [process_func(page.extract_text()) for page in reader.pages]\n",
    "    return '\\n'.join(text)"
   ]
  },
  {
   "cell_type": "code",
   "execution_count": null,
   "id": "2f62e9dc",
   "metadata": {},
   "outputs": [],
   "source": [
    "def write_text_to_file(file_path: str, text: str):\n",
    "    with open(file_path, \"w\", encoding=\"utf-8\") as f:\n",
    "        f.write(text + \"\\n\")"
   ]
  },
  {
   "cell_type": "code",
   "execution_count": null,
   "id": "cd8d75b8",
   "metadata": {},
   "outputs": [],
   "source": [
    "def ask_question(user_query):\n",
    "    if user_query.lower() == \"quit\":\n",
    "        return \"You have chosen to exit.\"\n",
    "    else:\n",
    "        return index.query(user_query)"
   ]
  },
  {
   "cell_type": "code",
   "execution_count": null,
   "id": "201a97bf",
   "metadata": {},
   "outputs": [],
   "source": [
    "if __name__ == \"__main__\":\n",
    "    load_dotenv()\n",
    "    api_key = os.getenv(\"OPENAI_API_KEY\")\n",
    "    os.environ[\"OPENAI_API_KEY\"] = api_key\n",
    "\n",
    "    texts = {\n",
    "        \"data_stripe.txt\": extract_text_from_pdf('stripe-2022-update.pdf', process_text_stripe), \n",
    "        \"data_manual.txt\": extract_text_from_pdf('CoffeeB_Manual Globe_EN_10.08.2022.pdf', process_text_manual)\n",
    "    }\n",
    "\n",
    "    for filename, text in texts.items():\n",
    "        write_text_to_file(filename, text)\n",
    "\n",
    "    loader1 = TextLoader('data_stripe.txt')\n",
    "    loader2 = TextLoader('data_manual.txt')\n",
    "\n",
    "    index = VectorstoreIndexCreator().from_loaders([loader1, loader2])\n",
    "\n",
    "    iface = gr.Interface(\n",
    "        fn=ask_question,\n",
    "        inputs=gr.Textbox(lines=2, placeholder=\"Enter your question here\",label=\"question\"),\n",
    "        outputs=\"text\",\n",
    "        title=\"Test\",\n",
    "        description=\"Enter your question based on 2 given docs.\"\n",
    "    )\n",
    "\n",
    "    iface.launch(share=True)\n"
   ]
  }
 ],
 "metadata": {
  "kernelspec": {
   "display_name": "Python 3 (ipykernel)",
   "language": "python",
   "name": "python3"
  },
  "language_info": {
   "codemirror_mode": {
    "name": "ipython",
    "version": 3
   },
   "file_extension": ".py",
   "mimetype": "text/x-python",
   "name": "python",
   "nbconvert_exporter": "python",
   "pygments_lexer": "ipython3",
   "version": "3.11.4"
  }
 },
 "nbformat": 4,
 "nbformat_minor": 5
}
